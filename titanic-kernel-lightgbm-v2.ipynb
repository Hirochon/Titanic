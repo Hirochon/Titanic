{
 "cells": [
  {
   "cell_type": "markdown",
   "metadata": {},
   "source": [
    "## 1. 必要なものをimport"
   ]
  },
  {
   "cell_type": "code",
   "execution_count": 1,
   "metadata": {
    "_cell_guid": "b1076dfc-b9ad-4769-8c92-a6c4dae69d19",
    "_uuid": "8f2839f25d086af736a60e9eeb907d3b93b6e0e5"
   },
   "outputs": [],
   "source": [
    "import pandas as pd\n",
    "import numpy as np\n",
    "import lightgbm as lgb\n",
    "from sklearn.model_selection import KFold, train_test_split\n",
    "from sklearn.metrics import accuracy_score\n",
    "import warnings\n",
    "warnings.filterwarnings('ignore')"
   ]
  },
  {
   "cell_type": "markdown",
   "metadata": {},
   "source": [
    "## 2. カテゴリカル変数を用いたデータの整形"
   ]
  },
  {
   "cell_type": "code",
   "execution_count": 2,
   "metadata": {
    "_cell_guid": "79c7e3d0-c299-4dcb-8224-4455121ee9b0",
    "_uuid": "d629ff2d2480ee46fbb7e2d37f6b5fab8052498a"
   },
   "outputs": [],
   "source": [
    "train = pd.read_csv('../input/titanic/train.csv')\n",
    "test = pd.read_csv('../input/titanic/test.csv')\n",
    "sample_submission = pd.read_csv('../input/titanic/gender_submission.csv')\n",
    "\n",
    "# Sexの変換\n",
    "genders = {'female': 0, 'male':1}\n",
    "train['Sex'] = train['Sex'].map(genders)\n",
    "test['Sex'] = test['Sex'].map(genders)\n",
    "\n",
    "# Embarkedの変換\n",
    "embarked = {'S':0, 'C':1, 'Q':2}\n",
    "train['Embarked'] = train['Embarked'].map(embarked)\n",
    "test['Embarked'] = test['Embarked'].map(embarked)\n",
    "\n",
    "# 不要な列の削除\n",
    "train.drop(['PassengerId', 'Name', 'Cabin', 'Ticket'], axis=1, inplace=True)\n",
    "test.drop(['PassengerId', 'Name', 'Cabin', 'Ticket'], axis=1, inplace=True)"
   ]
  },
  {
   "cell_type": "code",
   "execution_count": 3,
   "metadata": {},
   "outputs": [
    {
     "data": {
      "text/html": [
       "<div>\n",
       "<style scoped>\n",
       "    .dataframe tbody tr th:only-of-type {\n",
       "        vertical-align: middle;\n",
       "    }\n",
       "\n",
       "    .dataframe tbody tr th {\n",
       "        vertical-align: top;\n",
       "    }\n",
       "\n",
       "    .dataframe thead th {\n",
       "        text-align: right;\n",
       "    }\n",
       "</style>\n",
       "<table border=\"1\" class=\"dataframe\">\n",
       "  <thead>\n",
       "    <tr style=\"text-align: right;\">\n",
       "      <th></th>\n",
       "      <th>Pclass</th>\n",
       "      <th>Sex</th>\n",
       "      <th>Age</th>\n",
       "      <th>SibSp</th>\n",
       "      <th>Parch</th>\n",
       "      <th>Fare</th>\n",
       "      <th>Embarked</th>\n",
       "    </tr>\n",
       "  </thead>\n",
       "  <tbody>\n",
       "    <tr>\n",
       "      <th>0</th>\n",
       "      <td>3</td>\n",
       "      <td>1</td>\n",
       "      <td>22.0</td>\n",
       "      <td>1</td>\n",
       "      <td>0</td>\n",
       "      <td>7.2500</td>\n",
       "      <td>0.0</td>\n",
       "    </tr>\n",
       "    <tr>\n",
       "      <th>1</th>\n",
       "      <td>1</td>\n",
       "      <td>0</td>\n",
       "      <td>38.0</td>\n",
       "      <td>1</td>\n",
       "      <td>0</td>\n",
       "      <td>71.2833</td>\n",
       "      <td>1.0</td>\n",
       "    </tr>\n",
       "    <tr>\n",
       "      <th>2</th>\n",
       "      <td>3</td>\n",
       "      <td>0</td>\n",
       "      <td>26.0</td>\n",
       "      <td>0</td>\n",
       "      <td>0</td>\n",
       "      <td>7.9250</td>\n",
       "      <td>0.0</td>\n",
       "    </tr>\n",
       "    <tr>\n",
       "      <th>3</th>\n",
       "      <td>1</td>\n",
       "      <td>0</td>\n",
       "      <td>35.0</td>\n",
       "      <td>1</td>\n",
       "      <td>0</td>\n",
       "      <td>53.1000</td>\n",
       "      <td>0.0</td>\n",
       "    </tr>\n",
       "    <tr>\n",
       "      <th>4</th>\n",
       "      <td>3</td>\n",
       "      <td>1</td>\n",
       "      <td>35.0</td>\n",
       "      <td>0</td>\n",
       "      <td>0</td>\n",
       "      <td>8.0500</td>\n",
       "      <td>0.0</td>\n",
       "    </tr>\n",
       "  </tbody>\n",
       "</table>\n",
       "</div>"
      ],
      "text/plain": [
       "   Pclass  Sex   Age  SibSp  Parch     Fare  Embarked\n",
       "0       3    1  22.0      1      0   7.2500       0.0\n",
       "1       1    0  38.0      1      0  71.2833       1.0\n",
       "2       3    0  26.0      0      0   7.9250       0.0\n",
       "3       1    0  35.0      1      0  53.1000       0.0\n",
       "4       3    1  35.0      0      0   8.0500       0.0"
      ]
     },
     "execution_count": 3,
     "metadata": {},
     "output_type": "execute_result"
    }
   ],
   "source": [
    "X_train = train.drop('Survived', axis=1)\n",
    "y_train = train['Survived']\n",
    "X_train.head()"
   ]
  },
  {
   "cell_type": "code",
   "execution_count": 4,
   "metadata": {},
   "outputs": [
    {
     "data": {
      "text/plain": [
       "0.0    644\n",
       "1.0    168\n",
       "2.0     77\n",
       "Name: Embarked, dtype: int64"
      ]
     },
     "metadata": {},
     "output_type": "display_data"
    },
    {
     "data": {
      "text/plain": [
       "1    577\n",
       "0    314\n",
       "Name: Sex, dtype: int64"
      ]
     },
     "metadata": {},
     "output_type": "display_data"
    }
   ],
   "source": [
    "display(train['Embarked'].value_counts(), train['Sex'].value_counts())"
   ]
  },
  {
   "cell_type": "code",
   "execution_count": 5,
   "metadata": {},
   "outputs": [
    {
     "name": "stdout",
     "output_type": "stream",
     "text": [
      "Training until validation scores don't improve for 20 rounds\n",
      "Early stopping, best iteration is:\n",
      "[40]\ttraining's binary_logloss: 0.268824\tvalid_1's binary_logloss: 0.402566\n",
      "score 81.69\n"
     ]
    }
   ],
   "source": [
    "# トレーニングデータをtrainとvalidに分割\n",
    "train_x, valid_x, train_y, valid_y = train_test_split(X_train, y_train, test_size=0.33, random_state=0)\n",
    "\n",
    "# lab.Datasetを使って、trainとvalidを作っておく\n",
    "lgb_train= lgb.Dataset(train_x, train_y, categorical_feature=['Sex', 'Embarked'])\n",
    "lgb_valid = lgb.Dataset(valid_x, valid_y, categorical_feature=['Sex', 'Embarked'])\n",
    "\n",
    "lgbm_params = {'objective': 'binary'}\n",
    "\n",
    "# lgb.trainで学習\n",
    "gbm1 = lgb.train(params=lgbm_params,\n",
    "                train_set=lgb_train,\n",
    "                valid_sets=[lgb_train, lgb_valid],\n",
    "                early_stopping_rounds=20,\n",
    "                verbose_eval=-1)\n",
    "\n",
    "oof = gbm1.predict(valid_x)\n",
    "\n",
    "preds = (oof > 0.5).astype(int)\n",
    "print('score', round(accuracy_score(valid_y, preds)*100,2))"
   ]
  },
  {
   "cell_type": "markdown",
   "metadata": {},
   "source": [
    "## 3. 重要度を表示"
   ]
  },
  {
   "cell_type": "code",
   "execution_count": 6,
   "metadata": {},
   "outputs": [
    {
     "data": {
      "text/plain": [
       "array([ 56,  38, 389,  43,  16, 314,  38], dtype=int32)"
      ]
     },
     "execution_count": 6,
     "metadata": {},
     "output_type": "execute_result"
    }
   ],
   "source": [
    "gbm1.feature_importance()"
   ]
  },
  {
   "cell_type": "code",
   "execution_count": 7,
   "metadata": {},
   "outputs": [
    {
     "data": {
      "text/html": [
       "<div>\n",
       "<style scoped>\n",
       "    .dataframe tbody tr th:only-of-type {\n",
       "        vertical-align: middle;\n",
       "    }\n",
       "\n",
       "    .dataframe tbody tr th {\n",
       "        vertical-align: top;\n",
       "    }\n",
       "\n",
       "    .dataframe thead th {\n",
       "        text-align: right;\n",
       "    }\n",
       "</style>\n",
       "<table border=\"1\" class=\"dataframe\">\n",
       "  <thead>\n",
       "    <tr style=\"text-align: right;\">\n",
       "      <th></th>\n",
       "      <th>特徴</th>\n",
       "      <th>importance</th>\n",
       "    </tr>\n",
       "  </thead>\n",
       "  <tbody>\n",
       "    <tr>\n",
       "      <th>2</th>\n",
       "      <td>Age</td>\n",
       "      <td>389</td>\n",
       "    </tr>\n",
       "    <tr>\n",
       "      <th>5</th>\n",
       "      <td>Fare</td>\n",
       "      <td>314</td>\n",
       "    </tr>\n",
       "    <tr>\n",
       "      <th>0</th>\n",
       "      <td>Pclass</td>\n",
       "      <td>56</td>\n",
       "    </tr>\n",
       "    <tr>\n",
       "      <th>3</th>\n",
       "      <td>SibSp</td>\n",
       "      <td>43</td>\n",
       "    </tr>\n",
       "    <tr>\n",
       "      <th>1</th>\n",
       "      <td>Sex</td>\n",
       "      <td>38</td>\n",
       "    </tr>\n",
       "    <tr>\n",
       "      <th>6</th>\n",
       "      <td>Embarked</td>\n",
       "      <td>38</td>\n",
       "    </tr>\n",
       "    <tr>\n",
       "      <th>4</th>\n",
       "      <td>Parch</td>\n",
       "      <td>16</td>\n",
       "    </tr>\n",
       "  </tbody>\n",
       "</table>\n",
       "</div>"
      ],
      "text/plain": [
       "         特徴  importance\n",
       "2       Age         389\n",
       "5      Fare         314\n",
       "0    Pclass          56\n",
       "3     SibSp          43\n",
       "1       Sex          38\n",
       "6  Embarked          38\n",
       "4     Parch          16"
      ]
     },
     "execution_count": 7,
     "metadata": {},
     "output_type": "execute_result"
    }
   ],
   "source": [
    "pd.DataFrame({'特徴': X_train.columns,\n",
    "    'importance':gbm1.feature_importance()}).sort_values('importance',\n",
    "    ascending=False)"
   ]
  },
  {
   "cell_type": "code",
   "execution_count": 8,
   "metadata": {},
   "outputs": [
    {
     "data": {
      "text/html": [
       "<div>\n",
       "<style scoped>\n",
       "    .dataframe tbody tr th:only-of-type {\n",
       "        vertical-align: middle;\n",
       "    }\n",
       "\n",
       "    .dataframe tbody tr th {\n",
       "        vertical-align: top;\n",
       "    }\n",
       "\n",
       "    .dataframe thead th {\n",
       "        text-align: right;\n",
       "    }\n",
       "</style>\n",
       "<table border=\"1\" class=\"dataframe\">\n",
       "  <thead>\n",
       "    <tr style=\"text-align: right;\">\n",
       "      <th></th>\n",
       "      <th>特徴</th>\n",
       "      <th>importance</th>\n",
       "    </tr>\n",
       "  </thead>\n",
       "  <tbody>\n",
       "    <tr>\n",
       "      <th>1</th>\n",
       "      <td>Sex</td>\n",
       "      <td>1025.068321</td>\n",
       "    </tr>\n",
       "    <tr>\n",
       "      <th>2</th>\n",
       "      <td>Age</td>\n",
       "      <td>597.739877</td>\n",
       "    </tr>\n",
       "    <tr>\n",
       "      <th>5</th>\n",
       "      <td>Fare</td>\n",
       "      <td>389.990502</td>\n",
       "    </tr>\n",
       "    <tr>\n",
       "      <th>0</th>\n",
       "      <td>Pclass</td>\n",
       "      <td>302.335525</td>\n",
       "    </tr>\n",
       "    <tr>\n",
       "      <th>3</th>\n",
       "      <td>SibSp</td>\n",
       "      <td>89.421663</td>\n",
       "    </tr>\n",
       "    <tr>\n",
       "      <th>6</th>\n",
       "      <td>Embarked</td>\n",
       "      <td>74.457972</td>\n",
       "    </tr>\n",
       "    <tr>\n",
       "      <th>4</th>\n",
       "      <td>Parch</td>\n",
       "      <td>21.785036</td>\n",
       "    </tr>\n",
       "  </tbody>\n",
       "</table>\n",
       "</div>"
      ],
      "text/plain": [
       "         特徴   importance\n",
       "1       Sex  1025.068321\n",
       "2       Age   597.739877\n",
       "5      Fare   389.990502\n",
       "0    Pclass   302.335525\n",
       "3     SibSp    89.421663\n",
       "6  Embarked    74.457972\n",
       "4     Parch    21.785036"
      ]
     },
     "execution_count": 8,
     "metadata": {},
     "output_type": "execute_result"
    }
   ],
   "source": [
    "pd.DataFrame({'特徴': X_train.columns,\n",
    "    'importance':gbm1.feature_importance(importance_type='gain')}) \\\n",
    "    .sort_values('importance', ascending=False)"
   ]
  },
  {
   "cell_type": "markdown",
   "metadata": {},
   "source": [
    "## 4. LightGBMで一度提出"
   ]
  },
  {
   "cell_type": "code",
   "execution_count": 9,
   "metadata": {},
   "outputs": [],
   "source": [
    "test_pred_v1 = (gbm1.predict(test) > 0.5).astype(int)\n",
    "sample_submission['Survived'] = test_pred_v1\n",
    "sample_submission.to_csv('sample_submission.csv', index=False)"
   ]
  },
  {
   "cell_type": "markdown",
   "metadata": {},
   "source": [
    "## 5. Scikit-learn で色々とイジッテくでーの巻"
   ]
  },
  {
   "cell_type": "code",
   "execution_count": 10,
   "metadata": {},
   "outputs": [
    {
     "name": "stdout",
     "output_type": "stream",
     "text": [
      "Training until validation scores don't improve for 20 rounds\n",
      "Early stopping, best iteration is:\n",
      "[40]\ttraining's binary_logloss: 0.268824\tvalid_1's binary_logloss: 0.402566\n",
      "score 81.69\n"
     ]
    }
   ],
   "source": [
    "# トレーニングデータをtrainとvalidに分割\n",
    "train_x, valid_x, train_y, valid_y = train_test_split(X_train, y_train, test_size=0.33, random_state=0)\n",
    "\n",
    "# LightGBMの分類器をインスタンス化\n",
    "gbm = lgb.LGBMClassifier(objective='binary')  # , importance_type='gain'\n",
    "\n",
    "# trainとvalidを指定し学習\n",
    "gbm.fit(train_x, train_y,\n",
    "        eval_set = [(train_x, train_y), (valid_x, valid_y)],\n",
    "        categorical_feature=['Sex', 'Embarked'],\n",
    "        early_stopping_rounds=20,\n",
    "        verbose=-1)\n",
    "\n",
    "# valid_xについて推論\n",
    "oof = gbm.predict(valid_x, num_iteration=gbm.best_iteration_)\n",
    "print('score', round(accuracy_score(valid_y, oof)*100,2));  # validのscore"
   ]
  },
  {
   "cell_type": "markdown",
   "metadata": {},
   "source": [
    "### パラメータの調整"
   ]
  },
  {
   "cell_type": "code",
   "execution_count": 11,
   "metadata": {},
   "outputs": [
    {
     "data": {
      "text/plain": [
       "{'boosting_type': 'gbdt',\n",
       " 'class_weight': None,\n",
       " 'colsample_bytree': 1.0,\n",
       " 'importance_type': 'split',\n",
       " 'learning_rate': 0.1,\n",
       " 'max_depth': -1,\n",
       " 'min_child_samples': 20,\n",
       " 'min_child_weight': 0.001,\n",
       " 'min_split_gain': 0.0,\n",
       " 'n_estimators': 100,\n",
       " 'n_jobs': -1,\n",
       " 'num_leaves': 31,\n",
       " 'objective': 'binary',\n",
       " 'random_state': None,\n",
       " 'reg_alpha': 0.0,\n",
       " 'reg_lambda': 0.0,\n",
       " 'silent': True,\n",
       " 'subsample': 1.0,\n",
       " 'subsample_for_bin': 200000,\n",
       " 'subsample_freq': 0}"
      ]
     },
     "execution_count": 11,
     "metadata": {},
     "output_type": "execute_result"
    }
   ],
   "source": [
    "gbm.get_params()"
   ]
  },
  {
   "cell_type": "code",
   "execution_count": 12,
   "metadata": {},
   "outputs": [
    {
     "name": "stdout",
     "output_type": "stream",
     "text": [
      "0.8361391694725029\n",
      "{'num_leaves': 20, 'reg_alpha': 0, 'reg_lambda': 10}\n"
     ]
    }
   ],
   "source": [
    "# GridSearchCVをimport\n",
    "from sklearn.model_selection import GridSearchCV\n",
    "\n",
    "gbm = lgb.LGBMClassifier(objective='binary')\n",
    "\n",
    "# 試行するパラメータを羅列する\n",
    "params = {\n",
    "    'num_leaves': [20, 31, 40, 50],\n",
    "    'reg_alpha': [0, 1, 10, 100],\n",
    "    'reg_lambda': [0, 1, 10, 100],\n",
    "}\n",
    "\n",
    "grid_search = GridSearchCV(\n",
    "                           gbm,  # 分類器を渡す\n",
    "                           param_grid=params,  # 試行してほしいパラメータを渡す\n",
    "                           cv=3,  # 3分割交差検証でスコアを確認\n",
    "                          )\n",
    "\n",
    "grid_search.fit(X_train, y_train)  # データを渡す\n",
    "\n",
    "print(grid_search.best_score_)  # ベストスコアを表示\n",
    "print(grid_search.best_params_)  # ベストスコアのパラメータを表示"
   ]
  },
  {
   "cell_type": "code",
   "execution_count": 13,
   "metadata": {},
   "outputs": [
    {
     "name": "stdout",
     "output_type": "stream",
     "text": [
      "fold1 start\n",
      "Training until validation scores don't improve for 20 rounds\n",
      "Early stopping, best iteration is:\n",
      "[61]\ttraining's binary_logloss: 0.340861\tvalid_1's binary_logloss: 0.406633\n",
      "fold1 end\n",
      "\n",
      "fold2 start\n",
      "Training until validation scores don't improve for 20 rounds\n",
      "Did not meet early stopping. Best iteration is:\n",
      "[100]\ttraining's binary_logloss: 0.310629\tvalid_1's binary_logloss: 0.395367\n",
      "fold2 end\n",
      "\n",
      "fold3 start\n",
      "Training until validation scores don't improve for 20 rounds\n",
      "Early stopping, best iteration is:\n",
      "[65]\ttraining's binary_logloss: 0.320685\tvalid_1's binary_logloss: 0.455512\n",
      "fold3 end\n",
      "\n",
      "[82.15, 83.84, 80.81] 平均score 82.26666666666667\n"
     ]
    }
   ],
   "source": [
    "kf = KFold(n_splits=3, shuffle=True, random_state=0)\n",
    "\n",
    "# スコアとモデルを格納するリスト\n",
    "score_list = []\n",
    "test_pred = np.zeros((len(test), 3))\n",
    "\n",
    "for fold_, (train_index, valid_index) in enumerate(kf.split(X_train, y_train)):\n",
    "    train_x = X_train.iloc[train_index]\n",
    "    valid_x = X_train.iloc[valid_index]\n",
    "    train_y = y_train[train_index]\n",
    "    valid_y = y_train[valid_index]\n",
    "    \n",
    "    print(f'fold{fold_ + 1} start')\n",
    "\n",
    "    gbm = lgb.LGBMClassifier(objective='binary',\n",
    "                             num_leaves=20,\n",
    "                             reg_alpha=0,\n",
    "                             reg_lambda=10)  # パラメータを指定\n",
    "    gbm.fit(train_x, train_y,\n",
    "            eval_set = [(train_x, train_y), (valid_x, valid_y)],\n",
    "            early_stopping_rounds=20,\n",
    "            verbose= -1)\n",
    "    \n",
    "    oof = gbm.predict(valid_x, num_iteration=gbm.best_iteration_)\n",
    "    score_list.append(round(accuracy_score(valid_y, oof)*100,2))\n",
    "    test_pred[:, fold_] = gbm.predict_proba(test)[:, 1]\n",
    "    print(f'fold{fold_ + 1} end\\n' )\n",
    "print(score_list, '平均score', np.mean(score_list))\n",
    "pred = (np.mean(test_pred, axis=1) > 0.5).astype(int)\n",
    "sample_submission['Survived'] = pred\n",
    "sample_submission.to_csv('glid_search.csv', index=False)"
   ]
  },
  {
   "cell_type": "code",
   "execution_count": null,
   "metadata": {},
   "outputs": [],
   "source": []
  }
 ],
 "metadata": {
  "kernelspec": {
   "display_name": "Python 3",
   "language": "python",
   "name": "python3"
  },
  "language_info": {
   "codemirror_mode": {
    "name": "ipython",
    "version": 3
   },
   "file_extension": ".py",
   "mimetype": "text/x-python",
   "name": "python",
   "nbconvert_exporter": "python",
   "pygments_lexer": "ipython3",
   "version": "3.6.6"
  }
 },
 "nbformat": 4,
 "nbformat_minor": 4
}
